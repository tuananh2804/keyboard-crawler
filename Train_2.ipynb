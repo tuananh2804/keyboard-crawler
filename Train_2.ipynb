{
 "cells": [
  {
   "cell_type": "code",
   "execution_count": 1,
   "metadata": {},
   "outputs": [],
   "source": [
    "import pandas as pd\n",
    "import numpy as np\n",
    "from sklearn.preprocessing import LabelEncoder\n",
    "from sklearn.model_selection import train_test_split\n",
    "from sklearn.linear_model import LogisticRegression\n",
    "from sklearn.metrics import accuracy_score, confusion_matrix\n",
    "from sklearn.svm import SVC\n",
    "from sklearn.metrics import precision_score, recall_score, f1_score\n",
    "from sklearn.metrics import auc, roc_curve\n",
    "import matplotlib.pyplot as plt"
   ]
  },
  {
   "cell_type": "code",
   "execution_count": 2,
   "metadata": {},
   "outputs": [
    {
     "name": "stdout",
     "output_type": "stream",
     "text": [
      "Độ chính xác trung bình trên tập huấn luyện sau 50 lần lặp lại: 0.7881471004243281\n",
      "Độ chính xác trung bình trên tập kiểm tra sau 50 lần lặp lại: 0.7188700564971751\n"
     ]
    }
   ],
   "source": [
    "\n",
    "\n",
    "# Đọc dữ liệu từ file CSV\n",
    "data = pd.read_csv('data/encoded_data.csv')\n",
    "\n",
    "# Chia dữ liệu thành features (X) và target (y)\n",
    "X = data.drop('Giá(đ)', axis=1)  \n",
    "y = data['Giá(đ)']\n",
    "\n",
    "# Khởi tạo mảng để lưu trữ các kết quả accuracy\n",
    "train_accuracies = []\n",
    "test_accuracies = []\n",
    "\n",
    "# Lặp lại quá trình 50 lần\n",
    "for _ in range(50):\n",
    "    # Chia dữ liệu thành tập huấn luyện và tập kiểm tra (80% - 20%)\n",
    "    X_train, X_test, y_train, y_test = train_test_split(X, y, test_size=0.2)\n",
    "    \n",
    "    # Khởi tạo mô hình Logistic Regression\n",
    "    model = LogisticRegression(multi_class='multinomial', max_iter=200, solver='lbfgs', C=1)\n",
    "    \n",
    "    # Huấn luyện mô hình trên tập huấn luyện\n",
    "    model.fit(X_train, y_train)\n",
    "    \n",
    "    # Dự đoán nhãn trên tập kiểm tra\n",
    "    y_pred = model.predict(X_test)\n",
    "    y_train_pred = model.predict(X_train)\n",
    "    \n",
    "    # Đánh giá hiệu suất của mô hình trên tập kiểm tra và tập huấn luyện\n",
    "    train_accuracy = accuracy_score(y_train, y_train_pred)\n",
    "    test_accuracy = accuracy_score(y_test, y_pred)\n",
    "    \n",
    "    # Lưu kết quả độ chính xác của tập huấn luyện và tập kiểm tra\n",
    "    train_accuracies.append(train_accuracy)\n",
    "    test_accuracies.append(test_accuracy)\n",
    "\n",
    "# Tính giá trị trung bình của độ chính xác trên tập huấn luyện và tập kiểm tra\n",
    "avg_train_accuracy = np.mean(train_accuracies)\n",
    "avg_test_accuracy = np.mean(test_accuracies)\n",
    "\n",
    "# In ra giá trị trung bình của độ chính xác\n",
    "print(\"Độ chính xác trung bình trên tập huấn luyện sau 50 lần lặp lại:\", avg_train_accuracy)\n",
    "print(\"Độ chính xác trung bình trên tập kiểm tra sau 50 lần lặp lại:\", avg_test_accuracy)\n",
    "\n"
   ]
  },
  {
   "cell_type": "code",
   "execution_count": 157,
   "metadata": {},
   "outputs": [
    {
     "name": "stdout",
     "output_type": "stream",
     "text": [
      "Độ chính xác trung bình trên tập huấn luyện sau 50 lần lặp lại: 0.8524469589816124\n",
      "Độ chính xác trung bình trên tập kiểm tra sau 50 lần lặp lại: 0.7239548022598871\n"
     ]
    }
   ],
   "source": [
    "\n",
    "\n",
    "# Đọc dữ liệu từ file CSV\n",
    "data = pd.read_csv('data/encoded_data.csv')\n",
    "\n",
    "# Chia dữ liệu thành features (X) và target (y)\n",
    "X = data.drop('Giá(đ)', axis=1)  # Thay 'target_column' bằng tên cột chứa nhãn cần phân loại\n",
    "y = data['Giá(đ)']\n",
    "\n",
    "# Khởi tạo mảng để lưu trữ các kết quả accuracy\n",
    "train_accuracies = []\n",
    "test_accuracies = []\n",
    "\n",
    "# Lặp lại quá trình 50 lần\n",
    "for _ in range(50):\n",
    "    # Chia dữ liệu thành tập huấn luyện và tập kiểm tra (80% - 20%)\n",
    "    X_train, X_test, y_train, y_test = train_test_split(X, y, test_size=0.2)\n",
    "    \n",
    "    # Khởi tạo mô hình Logistic Regression\n",
    "    model = SVC()\n",
    "    \n",
    "    # Huấn luyện mô hình trên tập huấn luyện\n",
    "    model.fit(X_train, y_train)\n",
    "    \n",
    "    # Dự đoán nhãn trên tập kiểm tra\n",
    "    y_pred = model.predict(X_test)\n",
    "    y_train_pred = model.predict(X_train)\n",
    "    \n",
    "    # Đánh giá hiệu suất của mô hình trên tập kiểm tra và tập huấn luyện\n",
    "    train_accuracy = accuracy_score(y_train, y_train_pred)\n",
    "    test_accuracy = accuracy_score(y_test, y_pred)\n",
    "    \n",
    "    # Lưu kết quả độ chính xác của tập huấn luyện và tập kiểm tra\n",
    "    train_accuracies.append(train_accuracy)\n",
    "    test_accuracies.append(test_accuracy)\n",
    "\n",
    "# Tính giá trị trung bình của độ chính xác trên tập huấn luyện và tập kiểm tra\n",
    "avg_train_accuracy = np.mean(train_accuracies)\n",
    "avg_test_accuracy = np.mean(test_accuracies)\n",
    "\n",
    "# In ra giá trị trung bình của độ chính xác\n",
    "print(\"Độ chính xác trung bình trên tập huấn luyện sau 50 lần lặp lại:\", avg_train_accuracy)\n",
    "print(\"Độ chính xác trung bình trên tập kiểm tra sau 50 lần lặp lại:\", avg_test_accuracy)\n"
   ]
  }
 ],
 "metadata": {
  "kernelspec": {
   "display_name": "Python 3",
   "language": "python",
   "name": "python3"
  },
  "language_info": {
   "codemirror_mode": {
    "name": "ipython",
    "version": 3
   },
   "file_extension": ".py",
   "mimetype": "text/x-python",
   "name": "python",
   "nbconvert_exporter": "python",
   "pygments_lexer": "ipython3",
   "version": "3.10.10"
  }
 },
 "nbformat": 4,
 "nbformat_minor": 2
}

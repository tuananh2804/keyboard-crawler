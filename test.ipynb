{
 "cells": [
  {
   "cell_type": "code",
   "execution_count": 23,
   "metadata": {},
   "outputs": [],
   "source": [
    "import pandas as pd\n",
    "import numpy as np\n",
    "import re\n",
    "import random\n",
    "from sklearn.impute import KNNImputer"
   ]
  },
  {
   "cell_type": "code",
   "execution_count": 12,
   "metadata": {},
   "outputs": [],
   "source": [
    "def replace_model_with_top_32(df):\n",
    "    # Đếm số lần xuất hiện của mỗi giá trị trong cột 'Model'\n",
    "    model_counts = df['Model'].value_counts()\n",
    "\n",
    "    # Chọn ra 32 giá trị xuất hiện nhiều nhất\n",
    "    top_33_models = model_counts.head(33).index.tolist()\n",
    "    print(top_33_models)\n",
    "    \n",
    "    # Loại trừ giá trị '0' khỏi top 32\n",
    "    top_32_models = [model for model in top_33_models if model != 0][:32]\n",
    "    \n",
    "    # Thay thế các giá trị khác bằng giá trị ngẫu nhiên từ 32 giá trị đã chọn\n",
    "    replacement_values = np.random.choice(top_32_models, size=len(df))\n",
    "    df['Model'] = np.where(~df['Model'].isin(top_32_models), replacement_values, df['Model'])\n",
    "    return df\n"
   ]
  },
  {
   "cell_type": "code",
   "execution_count": 25,
   "metadata": {},
   "outputs": [],
   "source": [
    "import pandas as pd\n",
    "import re\n",
    "\n",
    "def convert_weight(value):\n",
    "    # Kiểm tra xem giá trị có phải là chuỗi hay không\n",
    "    if isinstance(value, str):\n",
    "        # Xóa bỏ các ký tự không cần thiết và khoảng trắng thừa\n",
    "        value = value.strip().lower().replace('~', '').replace(' ', '').replace(':', '')\n",
    "        \n",
    "        # Tìm số và đơn vị (g hoặc kg)\n",
    "        match = re.search(r\"(\\d+(\\.\\d+)?)(kg|g)?\", value)\n",
    "        if match:\n",
    "            weight = float(match.group(1))\n",
    "            unit = match.group(3)\n",
    "            \n",
    "            # Chuyển đổi kg sang g nếu cần thiết\n",
    "            if unit == 'kg':\n",
    "                weight *= 1000\n",
    "            return int(weight)\n",
    "        else:\n",
    "            return None\n",
    "    elif pd.isna(value):  # Xử lý các giá trị NaN\n",
    "        return None\n",
    "    else:  # Trường hợp khác (nếu có giá trị đã là số)\n",
    "        return int(value)\n",
    "\n",
    "\n"
   ]
  },
  {
   "cell_type": "code",
   "execution_count": 26,
   "metadata": {},
   "outputs": [],
   "source": [
    "def read_data_from_csv(filename):\n",
    "    df = pd.read_csv(filename, sep='\\t',encoding='utf-16')\n",
    "    return df \n",
    "df = read_data_from_csv('raw_data_anphatpc.csv')\n",
    "df['Cân nặng'] = df['Cân nặng'].apply(convert_weight)"
   ]
  },
  {
   "cell_type": "code",
   "execution_count": 27,
   "metadata": {},
   "outputs": [
    {
     "data": {
      "text/plain": [
       "0       NaN\n",
       "1       NaN\n",
       "2     369.0\n",
       "3     369.0\n",
       "4     369.0\n",
       "5     925.0\n",
       "6     925.0\n",
       "7       NaN\n",
       "8       NaN\n",
       "9       NaN\n",
       "10      NaN\n",
       "11      NaN\n",
       "12      NaN\n",
       "13      NaN\n",
       "14      NaN\n",
       "15      NaN\n",
       "16      NaN\n",
       "17      NaN\n",
       "18      NaN\n",
       "19      NaN\n",
       "Name: Cân nặng, dtype: float64"
      ]
     },
     "execution_count": 27,
     "metadata": {},
     "output_type": "execute_result"
    }
   ],
   "source": [
    "df['Cân nặng'].head(20)"
   ]
  },
  {
   "cell_type": "code",
   "execution_count": 2,
   "metadata": {},
   "outputs": [
    {
     "name": "stdout",
     "output_type": "stream",
     "text": [
      "Centroids: [[0.  1.  0.  1.  0.  0. ]\n",
      " [0.5 0.  0.5 0.  0.5 0.5]]\n",
      "Labels: [1 1 0 1 1]\n"
     ]
    }
   ],
   "source": [
    "import numpy as np\n",
    "from sklearn.cluster import KMeans\n",
    "from sklearn.preprocessing import OneHotEncoder\n",
    "\n",
    "# Dữ liệu mẫu\n",
    "data = np.array([\n",
    "    ['red', 'S'],\n",
    "    ['blue', 'M'],\n",
    "    ['green', 'L'],\n",
    "    ['blue', 'S'],\n",
    "    ['red', 'M']\n",
    "])\n",
    "\n",
    "# Mã hóa one-hot\n",
    "encoder = OneHotEncoder(sparse_output=False)\n",
    "data_encoded = encoder.fit_transform(data)\n",
    "\n",
    "# Áp dụng K-means\n",
    "kmeans = KMeans(n_clusters=2, random_state=0)\n",
    "kmeans.fit(data_encoded)\n",
    "\n",
    "# Kết quả\n",
    "print(\"Centroids:\", kmeans.cluster_centers_)\n",
    "print(\"Labels:\", kmeans.labels_)\n"
   ]
  },
  {
   "cell_type": "code",
   "execution_count": 28,
   "metadata": {},
   "outputs": [
    {
     "name": "stdout",
     "output_type": "stream",
     "text": [
      "   id  giá\n",
      "0   1  100\n",
      "1   2  200\n",
      "2   3  100\n",
      "3   4  200\n",
      "4   5  300\n"
     ]
    },
    {
     "name": "stderr",
     "output_type": "stream",
     "text": [
      "C:\\Users\\ADMIN\\AppData\\Local\\Temp\\ipykernel_3748\\1427077485.py:17: FutureWarning: A value is trying to be set on a copy of a DataFrame or Series through chained assignment using an inplace method.\n",
      "The behavior will change in pandas 3.0. This inplace method will never work because the intermediate object on which we are setting values always behaves as a copy.\n",
      "\n",
      "For example, when doing 'df[col].method(value, inplace=True)', try using 'df.method({col: value}, inplace=True)' or df[col] = df[col].method(value) instead, to perform the operation inplace on the original object.\n",
      "\n",
      "\n",
      "  df[column].replace(['', 'Liên hệ'], np.nan, inplace=True)\n"
     ]
    }
   ],
   "source": [
    "import pandas as pd\n",
    "import numpy as np\n",
    "\n",
    "def replace_empty_and_contact(df, column):\n",
    "    \"\"\"\n",
    "    Replace empty strings and 'Liên hệ' with random values in a column of a DataFrame.\n",
    "\n",
    "    Parameters:\n",
    "    df (pandas.DataFrame): The DataFrame containing the column to be processed.\n",
    "    column (str): The name of the column to process.\n",
    "\n",
    "    Returns:\n",
    "    pandas.DataFrame: The DataFrame with replaced values.\n",
    "    \"\"\"\n",
    "\n",
    "    # Replace empty strings and 'Liên hệ' with NaN\n",
    "    df[column].replace(['', 'Liên hệ'], np.nan, inplace=True)\n",
    "\n",
    "    # Get unique non-null values\n",
    "    unique_values = df[column].dropna().unique()\n",
    "\n",
    "    # Replace NaN values with random values from unique non-null values\n",
    "    df[column] = df[column].apply(lambda x: np.random.choice(unique_values) if pd.isnull(x) else x)\n",
    "\n",
    "    return df\n",
    "\n",
    "# Example usage:\n",
    "# Create a sample DataFrame\n",
    "data = {'id': [1, 2, 3, 4, 5],\n",
    "        'giá': ['100', '200', '', 'Liên hệ', '300']}\n",
    "df = pd.DataFrame(data)\n",
    "\n",
    "# Call the function to replace empty strings and 'Liên hệ'\n",
    "df = replace_empty_and_contact(df, 'giá')\n",
    "\n",
    "print(df)"
   ]
  },
  {
   "cell_type": "code",
   "execution_count": 29,
   "metadata": {},
   "outputs": [
    {
     "data": {
      "image/png": "[encoded data removed]",
      "text/plain": [
       "<Figure size 800x600 with 1 Axes>"
      ]
     },
     "metadata": {},
     "output_type": "display_data"
    },
    {
     "data": {
      "image/png": "[encoded data removed]",
      "text/plain": [
       "<Figure size 800x600 with 1 Axes>"
      ]
     },
     "metadata": {},
     "output_type": "display_data"
    }
   ],
   "source": [
    "import pandas as pd\n",
    "import matplotlib.pyplot as plt\n",
    "\n",
    "# Đọc dữ liệu từ tệp CSV vào DataFrame\n",
    "df = pd.read_csv('clean_data.csv')\n",
    "\n",
    "# Trực quan hóa phân phối của cột 'Cân nặng' bằng histogram\n",
    "plt.figure(figsize=(8, 6))\n",
    "plt.hist(df['Cân nặng'], bins=20, color='skyblue', edgecolor='black')\n",
    "plt.title('Phân phối của cân nặng')\n",
    "plt.xlabel('Cân nặng')\n",
    "plt.ylabel('Số lượng')\n",
    "plt.grid(True)\n",
    "plt.show()\n",
    "\n",
    "# Trực quan hóa phân phối của cột 'Cân nặng' bằng boxplot\n",
    "plt.figure(figsize=(8, 6))\n",
    "plt.boxplot(df['Cân nặng'], vert=False)\n",
    "plt.title('Phân phối của cân nặng')\n",
    "plt.xlabel('Cân nặng')\n",
    "plt.grid(True)\n",
    "plt.show()\n"
   ]
  },
  {
   "cell_type": "code",
   "execution_count": 32,
   "metadata": {},
   "outputs": [],
   "source": [
    "import pandas as pd\n",
    "\n",
    "# Đọc các tệp CSV vào các DataFrame\n",
    "df1 = pd.read_csv('clean_data.csv')\n",
    "df2 = pd.read_csv('clean_data_anphat.csv')\n",
    "\n",
    "# Ghép các DataFrame lại với nhau\n",
    "merged_df = pd.concat([df1, df2])\n",
    "\n",
    "# Lưu DataFrame ghép lại thành tệp CSV\n",
    "merged_df.to_csv('Clean_Data.csv', index=False)\n"
   ]
  }
 ],
 "metadata": {
  "kernelspec": {
   "display_name": "Python 3",
   "language": "python",
   "name": "python3"
  },
  "language_info": {
   "codemirror_mode": {
    "name": "ipython",
    "version": 3
   },
   "file_extension": ".py",
   "mimetype": "text/x-python",
   "name": "python",
   "nbconvert_exporter": "python",
   "pygments_lexer": "ipython3",
   "version": "3.10.10"
  }
 },
 "nbformat": 4,
 "nbformat_minor": 2
}
